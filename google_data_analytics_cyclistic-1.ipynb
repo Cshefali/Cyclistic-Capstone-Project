{
  "cells": [
    {
      "cell_type": "markdown",
      "id": "b3692e2b",
      "metadata": {
        "papermill": {
          "duration": 0.120525,
          "end_time": "2022-03-30T14:08:42.598182",
          "exception": false,
          "start_time": "2022-03-30T14:08:42.477657",
          "status": "completed"
        },
        "tags": [],
        "id": "b3692e2b"
      },
      "source": [
        "This project was part of the final course in Google Data Analytics Specialization on Coursera.  \n",
        "### About the Data:\n",
        "1. Data provided in the Capstone Course. A copy of 2021 datasets can be found [here](https://www.kaggle.com/datasets/atohorisrael/divvy-tripdata-jan-dec-2021) on Kaggle.\n",
        "1. The dataset is a collection of bike ride details for Jan-Dec 2021.\n",
        "2. It contains **_ride_id_**, **_bike_type_** (electric, classic or docked), **_ride timings_** etc.\n",
        "3. It also contains user type- **_members_** or **_casual_**.\n",
        "\n",
        "Business Objective of the Capstone Project was to:  \n",
        "**Design marketing strategies aimed at converting casual riders into annual members.**\n",
        "\n",
        "The objective of this analysis is to answer the question:  \n",
        "**How do existing annual members and casual riders use Cyclistic bikes differently?**\n"
      ]
    },
    {
      "cell_type": "code",
      "execution_count": null,
      "id": "bb34ec0d",
      "metadata": {
        "_kg_hide-output": true,
        "execution": {
          "iopub.execute_input": "2022-03-30T14:08:42.846739Z",
          "iopub.status.busy": "2022-03-30T14:08:42.843547Z",
          "iopub.status.idle": "2022-03-30T14:08:44.072490Z",
          "shell.execute_reply": "2022-03-30T14:08:44.070890Z"
        },
        "papermill": {
          "duration": 1.353693,
          "end_time": "2022-03-30T14:08:44.072663",
          "exception": false,
          "start_time": "2022-03-30T14:08:42.718970",
          "status": "completed"
        },
        "tags": [],
        "id": "bb34ec0d",
        "outputId": "c4093f45-f76c-438c-f875-feadc24c79da"
      },
      "outputs": [
        {
          "name": "stderr",
          "output_type": "stream",
          "text": [
            "── \u001b[1mAttaching packages\u001b[22m ─────────────────────────────────────── tidyverse 1.3.1 ──\n",
            "\n",
            "\u001b[32m✔\u001b[39m \u001b[34mggplot2\u001b[39m 3.3.5     \u001b[32m✔\u001b[39m \u001b[34mpurrr  \u001b[39m 0.3.4\n",
            "\u001b[32m✔\u001b[39m \u001b[34mtibble \u001b[39m 3.1.5     \u001b[32m✔\u001b[39m \u001b[34mdplyr  \u001b[39m 1.0.7\n",
            "\u001b[32m✔\u001b[39m \u001b[34mtidyr  \u001b[39m 1.1.4     \u001b[32m✔\u001b[39m \u001b[34mstringr\u001b[39m 1.4.0\n",
            "\u001b[32m✔\u001b[39m \u001b[34mreadr  \u001b[39m 2.0.2     \u001b[32m✔\u001b[39m \u001b[34mforcats\u001b[39m 0.5.1\n",
            "\n",
            "── \u001b[1mConflicts\u001b[22m ────────────────────────────────────────── tidyverse_conflicts() ──\n",
            "\u001b[31m✖\u001b[39m \u001b[34mdplyr\u001b[39m::\u001b[32mfilter()\u001b[39m masks \u001b[34mstats\u001b[39m::filter()\n",
            "\u001b[31m✖\u001b[39m \u001b[34mdplyr\u001b[39m::\u001b[32mlag()\u001b[39m    masks \u001b[34mstats\u001b[39m::lag()\n",
            "\n",
            "\n",
            "Attaching package: ‘lubridate’\n",
            "\n",
            "\n",
            "The following objects are masked from ‘package:base’:\n",
            "\n",
            "    date, intersect, setdiff, union\n",
            "\n",
            "\n"
          ]
        }
      ],
      "source": [
        "#Loading all the required packages\n",
        "library(tidyverse) # metapackage of all tidyverse packages\n",
        "library(lubridate)\n",
        "library(ggplot2)"
      ]
    },
    {
      "cell_type": "code",
      "execution_count": null,
      "id": "92a63802",
      "metadata": {
        "_cell_guid": "4ff8969a-0fa7-4612-a89b-79b7af5da909",
        "_kg_hide-input": false,
        "_kg_hide-output": true,
        "_uuid": "43cf036d-afa1-4795-b1f8-5bb67c3ff119",
        "execution": {
          "iopub.execute_input": "2022-03-30T14:08:44.361019Z",
          "iopub.status.busy": "2022-03-30T14:08:44.329833Z",
          "iopub.status.idle": "2022-03-30T14:08:49.552664Z",
          "shell.execute_reply": "2022-03-30T14:08:49.551443Z"
        },
        "jupyter": {
          "outputs_hidden": false
        },
        "papermill": {
          "duration": 5.351932,
          "end_time": "2022-03-30T14:08:49.552915",
          "exception": false,
          "start_time": "2022-03-30T14:08:44.200983",
          "status": "completed"
        },
        "tags": [],
        "id": "92a63802",
        "outputId": "8dbffc6b-1bf5-4f1d-d1aa-1372756a9ea3"
      },
      "outputs": [
        {
          "name": "stderr",
          "output_type": "stream",
          "text": [
            "\u001b[1m\u001b[1mRows: \u001b[1m\u001b[22m\u001b[34m\u001b[34m96834\u001b[34m\u001b[39m \u001b[1m\u001b[1mColumns: \u001b[1m\u001b[22m\u001b[34m\u001b[34m13\u001b[34m\u001b[39m\n",
            "\n",
            "\u001b[36m──\u001b[39m \u001b[1m\u001b[1mColumn specification\u001b[1m\u001b[22m \u001b[36m────────────────────────────────────────────────────────\u001b[39m\n",
            "\u001b[1mDelimiter:\u001b[22m \",\"\n",
            "\u001b[31mchr\u001b[39m  (7): ride_id, rideable_type, start_station_name, start_station_id, end_...\n",
            "\u001b[32mdbl\u001b[39m  (4): start_lat, start_lng, end_lat, end_lng\n",
            "\u001b[34mdttm\u001b[39m (2): started_at, ended_at\n",
            "\n",
            "\n",
            "\u001b[36mℹ\u001b[39m Use \u001b[30m\u001b[47m\u001b[30m\u001b[47m`spec()`\u001b[47m\u001b[30m\u001b[49m\u001b[39m to retrieve the full column specification for this data.\n",
            "\u001b[36mℹ\u001b[39m Specify the column types or set \u001b[30m\u001b[47m\u001b[30m\u001b[47m`show_col_types = FALSE`\u001b[47m\u001b[30m\u001b[49m\u001b[39m to quiet this message.\n",
            "\n",
            "\u001b[1m\u001b[1mRows: \u001b[1m\u001b[22m\u001b[34m\u001b[34m49622\u001b[34m\u001b[39m \u001b[1m\u001b[1mColumns: \u001b[1m\u001b[22m\u001b[34m\u001b[34m13\u001b[34m\u001b[39m\n",
            "\n",
            "\u001b[36m──\u001b[39m \u001b[1m\u001b[1mColumn specification\u001b[1m\u001b[22m \u001b[36m────────────────────────────────────────────────────────\u001b[39m\n",
            "\u001b[1mDelimiter:\u001b[22m \",\"\n",
            "\u001b[31mchr\u001b[39m  (7): ride_id, rideable_type, start_station_name, start_station_id, end_...\n",
            "\u001b[32mdbl\u001b[39m  (4): start_lat, start_lng, end_lat, end_lng\n",
            "\u001b[34mdttm\u001b[39m (2): started_at, ended_at\n",
            "\n",
            "\n",
            "\u001b[36mℹ\u001b[39m Use \u001b[30m\u001b[47m\u001b[30m\u001b[47m`spec()`\u001b[47m\u001b[30m\u001b[49m\u001b[39m to retrieve the full column specification for this data.\n",
            "\u001b[36mℹ\u001b[39m Specify the column types or set \u001b[30m\u001b[47m\u001b[30m\u001b[47m`show_col_types = FALSE`\u001b[47m\u001b[30m\u001b[49m\u001b[39m to quiet this message.\n",
            "\n",
            "\u001b[1m\u001b[1mRows: \u001b[1m\u001b[22m\u001b[34m\u001b[34m228496\u001b[34m\u001b[39m \u001b[1m\u001b[1mColumns: \u001b[1m\u001b[22m\u001b[34m\u001b[34m13\u001b[34m\u001b[39m\n",
            "\n",
            "\u001b[36m──\u001b[39m \u001b[1m\u001b[1mColumn specification\u001b[1m\u001b[22m \u001b[36m────────────────────────────────────────────────────────\u001b[39m\n",
            "\u001b[1mDelimiter:\u001b[22m \",\"\n",
            "\u001b[31mchr\u001b[39m  (7): ride_id, rideable_type, start_station_name, start_station_id, end_...\n",
            "\u001b[32mdbl\u001b[39m  (4): start_lat, start_lng, end_lat, end_lng\n",
            "\u001b[34mdttm\u001b[39m (2): started_at, ended_at\n",
            "\n",
            "\n",
            "\u001b[36mℹ\u001b[39m Use \u001b[30m\u001b[47m\u001b[30m\u001b[47m`spec()`\u001b[47m\u001b[30m\u001b[49m\u001b[39m to retrieve the full column specification for this data.\n",
            "\u001b[36mℹ\u001b[39m Specify the column types or set \u001b[30m\u001b[47m\u001b[30m\u001b[47m`show_col_types = FALSE`\u001b[47m\u001b[30m\u001b[49m\u001b[39m to quiet this message.\n",
            "\n",
            "\u001b[1m\u001b[1mRows: \u001b[1m\u001b[22m\u001b[34m\u001b[34m337230\u001b[34m\u001b[39m \u001b[1m\u001b[1mColumns: \u001b[1m\u001b[22m\u001b[34m\u001b[34m13\u001b[34m\u001b[39m\n",
            "\n",
            "\u001b[36m──\u001b[39m \u001b[1m\u001b[1mColumn specification\u001b[1m\u001b[22m \u001b[36m────────────────────────────────────────────────────────\u001b[39m\n",
            "\u001b[1mDelimiter:\u001b[22m \",\"\n",
            "\u001b[31mchr\u001b[39m  (7): ride_id, rideable_type, start_station_name, start_station_id, end_...\n",
            "\u001b[32mdbl\u001b[39m  (4): start_lat, start_lng, end_lat, end_lng\n",
            "\u001b[34mdttm\u001b[39m (2): started_at, ended_at\n",
            "\n",
            "\n",
            "\u001b[36mℹ\u001b[39m Use \u001b[30m\u001b[47m\u001b[30m\u001b[47m`spec()`\u001b[47m\u001b[30m\u001b[49m\u001b[39m to retrieve the full column specification for this data.\n",
            "\u001b[36mℹ\u001b[39m Specify the column types or set \u001b[30m\u001b[47m\u001b[30m\u001b[47m`show_col_types = FALSE`\u001b[47m\u001b[30m\u001b[49m\u001b[39m to quiet this message.\n",
            "\n",
            "\u001b[1m\u001b[1mRows: \u001b[1m\u001b[22m\u001b[34m\u001b[34m531633\u001b[34m\u001b[39m \u001b[1m\u001b[1mColumns: \u001b[1m\u001b[22m\u001b[34m\u001b[34m13\u001b[34m\u001b[39m\n",
            "\n",
            "\u001b[36m──\u001b[39m \u001b[1m\u001b[1mColumn specification\u001b[1m\u001b[22m \u001b[36m────────────────────────────────────────────────────────\u001b[39m\n",
            "\u001b[1mDelimiter:\u001b[22m \",\"\n",
            "\u001b[31mchr\u001b[39m  (7): ride_id, rideable_type, start_station_name, start_station_id, end_...\n",
            "\u001b[32mdbl\u001b[39m  (4): start_lat, start_lng, end_lat, end_lng\n",
            "\u001b[34mdttm\u001b[39m (2): started_at, ended_at\n",
            "\n",
            "\n",
            "\u001b[36mℹ\u001b[39m Use \u001b[30m\u001b[47m\u001b[30m\u001b[47m`spec()`\u001b[47m\u001b[30m\u001b[49m\u001b[39m to retrieve the full column specification for this data.\n",
            "\u001b[36mℹ\u001b[39m Specify the column types or set \u001b[30m\u001b[47m\u001b[30m\u001b[47m`show_col_types = FALSE`\u001b[47m\u001b[30m\u001b[49m\u001b[39m to quiet this message.\n",
            "\n",
            "\u001b[1m\u001b[1mRows: \u001b[1m\u001b[22m\u001b[34m\u001b[34m729595\u001b[34m\u001b[39m \u001b[1m\u001b[1mColumns: \u001b[1m\u001b[22m\u001b[34m\u001b[34m13\u001b[34m\u001b[39m\n",
            "\n",
            "\u001b[36m──\u001b[39m \u001b[1m\u001b[1mColumn specification\u001b[1m\u001b[22m \u001b[36m────────────────────────────────────────────────────────\u001b[39m\n",
            "\u001b[1mDelimiter:\u001b[22m \",\"\n",
            "\u001b[31mchr\u001b[39m  (7): ride_id, rideable_type, start_station_name, start_station_id, end_...\n",
            "\u001b[32mdbl\u001b[39m  (4): start_lat, start_lng, end_lat, end_lng\n",
            "\u001b[34mdttm\u001b[39m (2): started_at, ended_at\n",
            "\n",
            "\n",
            "\u001b[36mℹ\u001b[39m Use \u001b[30m\u001b[47m\u001b[30m\u001b[47m`spec()`\u001b[47m\u001b[30m\u001b[49m\u001b[39m to retrieve the full column specification for this data.\n",
            "\u001b[36mℹ\u001b[39m Specify the column types or set \u001b[30m\u001b[47m\u001b[30m\u001b[47m`show_col_types = FALSE`\u001b[47m\u001b[30m\u001b[49m\u001b[39m to quiet this message.\n",
            "\n",
            "\u001b[1m\u001b[1mRows: \u001b[1m\u001b[22m\u001b[34m\u001b[34m822410\u001b[34m\u001b[39m \u001b[1m\u001b[1mColumns: \u001b[1m\u001b[22m\u001b[34m\u001b[34m13\u001b[34m\u001b[39m\n",
            "\n",
            "\u001b[36m──\u001b[39m \u001b[1m\u001b[1mColumn specification\u001b[1m\u001b[22m \u001b[36m────────────────────────────────────────────────────────\u001b[39m\n",
            "\u001b[1mDelimiter:\u001b[22m \",\"\n",
            "\u001b[31mchr\u001b[39m  (7): ride_id, rideable_type, start_station_name, start_station_id, end_...\n",
            "\u001b[32mdbl\u001b[39m  (4): start_lat, start_lng, end_lat, end_lng\n",
            "\u001b[34mdttm\u001b[39m (2): started_at, ended_at\n",
            "\n",
            "\n",
            "\u001b[36mℹ\u001b[39m Use \u001b[30m\u001b[47m\u001b[30m\u001b[47m`spec()`\u001b[47m\u001b[30m\u001b[49m\u001b[39m to retrieve the full column specification for this data.\n",
            "\u001b[36mℹ\u001b[39m Specify the column types or set \u001b[30m\u001b[47m\u001b[30m\u001b[47m`show_col_types = FALSE`\u001b[47m\u001b[30m\u001b[49m\u001b[39m to quiet this message.\n",
            "\n",
            "\u001b[1m\u001b[1mRows: \u001b[1m\u001b[22m\u001b[34m\u001b[34m804352\u001b[34m\u001b[39m \u001b[1m\u001b[1mColumns: \u001b[1m\u001b[22m\u001b[34m\u001b[34m13\u001b[34m\u001b[39m\n",
            "\n",
            "\u001b[36m──\u001b[39m \u001b[1m\u001b[1mColumn specification\u001b[1m\u001b[22m \u001b[36m────────────────────────────────────────────────────────\u001b[39m\n",
            "\u001b[1mDelimiter:\u001b[22m \",\"\n",
            "\u001b[31mchr\u001b[39m  (7): ride_id, rideable_type, start_station_name, start_station_id, end_...\n",
            "\u001b[32mdbl\u001b[39m  (4): start_lat, start_lng, end_lat, end_lng\n",
            "\u001b[34mdttm\u001b[39m (2): started_at, ended_at\n",
            "\n",
            "\n",
            "\u001b[36mℹ\u001b[39m Use \u001b[30m\u001b[47m\u001b[30m\u001b[47m`spec()`\u001b[47m\u001b[30m\u001b[49m\u001b[39m to retrieve the full column specification for this data.\n",
            "\u001b[36mℹ\u001b[39m Specify the column types or set \u001b[30m\u001b[47m\u001b[30m\u001b[47m`show_col_types = FALSE`\u001b[47m\u001b[30m\u001b[49m\u001b[39m to quiet this message.\n",
            "\n",
            "\u001b[1m\u001b[1mRows: \u001b[1m\u001b[22m\u001b[34m\u001b[34m756147\u001b[34m\u001b[39m \u001b[1m\u001b[1mColumns: \u001b[1m\u001b[22m\u001b[34m\u001b[34m13\u001b[34m\u001b[39m\n",
            "\n",
            "\u001b[36m──\u001b[39m \u001b[1m\u001b[1mColumn specification\u001b[1m\u001b[22m \u001b[36m────────────────────────────────────────────────────────\u001b[39m\n",
            "\u001b[1mDelimiter:\u001b[22m \",\"\n",
            "\u001b[31mchr\u001b[39m  (7): ride_id, rideable_type, start_station_name, start_station_id, end_...\n",
            "\u001b[32mdbl\u001b[39m  (4): start_lat, start_lng, end_lat, end_lng\n",
            "\u001b[34mdttm\u001b[39m (2): started_at, ended_at\n",
            "\n",
            "\n",
            "\u001b[36mℹ\u001b[39m Use \u001b[30m\u001b[47m\u001b[30m\u001b[47m`spec()`\u001b[47m\u001b[30m\u001b[49m\u001b[39m to retrieve the full column specification for this data.\n",
            "\u001b[36mℹ\u001b[39m Specify the column types or set \u001b[30m\u001b[47m\u001b[30m\u001b[47m`show_col_types = FALSE`\u001b[47m\u001b[30m\u001b[49m\u001b[39m to quiet this message.\n",
            "\n",
            "\u001b[1m\u001b[1mRows: \u001b[1m\u001b[22m\u001b[34m\u001b[34m631226\u001b[34m\u001b[39m \u001b[1m\u001b[1mColumns: \u001b[1m\u001b[22m\u001b[34m\u001b[34m13\u001b[34m\u001b[39m\n",
            "\n",
            "\u001b[36m──\u001b[39m \u001b[1m\u001b[1mColumn specification\u001b[1m\u001b[22m \u001b[36m────────────────────────────────────────────────────────\u001b[39m\n",
            "\u001b[1mDelimiter:\u001b[22m \",\"\n",
            "\u001b[31mchr\u001b[39m  (7): ride_id, rideable_type, start_station_name, start_station_id, end_...\n",
            "\u001b[32mdbl\u001b[39m  (4): start_lat, start_lng, end_lat, end_lng\n",
            "\u001b[34mdttm\u001b[39m (2): started_at, ended_at\n",
            "\n",
            "\n",
            "\u001b[36mℹ\u001b[39m Use \u001b[30m\u001b[47m\u001b[30m\u001b[47m`spec()`\u001b[47m\u001b[30m\u001b[49m\u001b[39m to retrieve the full column specification for this data.\n",
            "\u001b[36mℹ\u001b[39m Specify the column types or set \u001b[30m\u001b[47m\u001b[30m\u001b[47m`show_col_types = FALSE`\u001b[47m\u001b[30m\u001b[49m\u001b[39m to quiet this message.\n",
            "\n",
            "\u001b[1m\u001b[1mRows: \u001b[1m\u001b[22m\u001b[34m\u001b[34m359978\u001b[34m\u001b[39m \u001b[1m\u001b[1mColumns: \u001b[1m\u001b[22m\u001b[34m\u001b[34m13\u001b[34m\u001b[39m\n",
            "\n",
            "\u001b[36m──\u001b[39m \u001b[1m\u001b[1mColumn specification\u001b[1m\u001b[22m \u001b[36m────────────────────────────────────────────────────────\u001b[39m\n",
            "\u001b[1mDelimiter:\u001b[22m \",\"\n",
            "\u001b[31mchr\u001b[39m  (7): ride_id, rideable_type, start_station_name, start_station_id, end_...\n",
            "\u001b[32mdbl\u001b[39m  (4): start_lat, start_lng, end_lat, end_lng\n",
            "\u001b[34mdttm\u001b[39m (2): started_at, ended_at\n",
            "\n",
            "\n",
            "\u001b[36mℹ\u001b[39m Use \u001b[30m\u001b[47m\u001b[30m\u001b[47m`spec()`\u001b[47m\u001b[30m\u001b[49m\u001b[39m to retrieve the full column specification for this data.\n",
            "\u001b[36mℹ\u001b[39m Specify the column types or set \u001b[30m\u001b[47m\u001b[30m\u001b[47m`show_col_types = FALSE`\u001b[47m\u001b[30m\u001b[49m\u001b[39m to quiet this message.\n",
            "\n",
            "\u001b[1m\u001b[1mRows: \u001b[1m\u001b[22m\u001b[34m\u001b[34m247540\u001b[34m\u001b[39m \u001b[1m\u001b[1mColumns: \u001b[1m\u001b[22m\u001b[34m\u001b[34m13\u001b[34m\u001b[39m\n",
            "\n",
            "\u001b[36m──\u001b[39m \u001b[1m\u001b[1mColumn specification\u001b[1m\u001b[22m \u001b[36m────────────────────────────────────────────────────────\u001b[39m\n",
            "\u001b[1mDelimiter:\u001b[22m \",\"\n",
            "\u001b[31mchr\u001b[39m  (7): ride_id, rideable_type, start_station_name, start_station_id, end_...\n",
            "\u001b[32mdbl\u001b[39m  (4): start_lat, start_lng, end_lat, end_lng\n",
            "\u001b[34mdttm\u001b[39m (2): started_at, ended_at\n",
            "\n",
            "\n",
            "\u001b[36mℹ\u001b[39m Use \u001b[30m\u001b[47m\u001b[30m\u001b[47m`spec()`\u001b[47m\u001b[30m\u001b[49m\u001b[39m to retrieve the full column specification for this data.\n",
            "\u001b[36mℹ\u001b[39m Specify the column types or set \u001b[30m\u001b[47m\u001b[30m\u001b[47m`show_col_types = FALSE`\u001b[47m\u001b[30m\u001b[49m\u001b[39m to quiet this message.\n",
            "\n"
          ]
        }
      ],
      "source": [
        "#reading all the 12 files.\n",
        "jan2021 <- read_csv(\"../input/divvy-tripdata-jan-dec-2021/202101-divvy-tripdata.csv\")\n",
        "feb2021 <- read_csv(\"../input/divvy-tripdata-jan-dec-2021/202102-divvy-tripdata.csv\")\n",
        "mar2021 <- read_csv(\"../input/divvy-tripdata-jan-dec-2021/202103-divvy-tripdata.csv\")\n",
        "apr2021 <- read_csv(\"../input/divvy-tripdata-jan-dec-2021/202104-divvy-tripdata.csv\")\n",
        "may2021 <- read_csv(\"../input/divvy-tripdata-jan-dec-2021/202105-divvy-tripdata.csv\")\n",
        "jun2021 <- read_csv(\"../input/divvy-tripdata-jan-dec-2021/202106-divvy-tripdata.csv\")\n",
        "jul2021 <- read_csv(\"../input/divvy-tripdata-jan-dec-2021/202107-divvy-tripdata.csv\")\n",
        "aug2021 <- read_csv(\"../input/divvy-tripdata-jan-dec-2021/202108-divvy-tripdata.csv\")\n",
        "sep2021 <- read_csv(\"../input/divvy-tripdata-jan-dec-2021/202109-divvy-tripdata.csv\")\n",
        "oct2021 <- read_csv(\"../input/divvy-tripdata-jan-dec-2021/202110-divvy-tripdata.csv\")\n",
        "nov2021 <- read_csv(\"../input/divvy-tripdata-jan-dec-2021/202111-divvy-tripdata.csv\")\n",
        "dec2021 <- read_csv(\"../input/divvy-tripdata-jan-dec-2021/202112-divvy-tripdata.csv\")"
      ]
    },
    {
      "cell_type": "markdown",
      "id": "b29d06f1",
      "metadata": {
        "papermill": {
          "duration": 0.159603,
          "end_time": "2022-03-30T14:08:49.876246",
          "exception": false,
          "start_time": "2022-03-30T14:08:49.716643",
          "status": "completed"
        },
        "tags": [],
        "id": "b29d06f1"
      },
      "source": [
        "### Steps applied in Data Wrangling:\n",
        "1. All the individual datasets of 12 months were combined into one -`year_dataset`.\n",
        "2. Missing values:\n",
        "    + Total missing values in each column were computed. This was done to determine whether missing values were present in all the columns or some specific columns only.\n",
        "    + NA values were present only in start and end stations names and id and few in end latitude, end longitude.\n",
        "    + The focus of my analysis was not on the destinations, so I removed all the location columns: start_station_name/id, end_station_name/id.\n",
        "    + Removed those few rows with missing end latitude and end longitude.\n",
        "3. Checked for duplicate rows: none found.\n",
        "4. Checked whether all values in ride_id column had 16 characters or not.\n",
        "5. Created 4 variable columns- `ride_duration`, `day`, `month`, `hour_of_day`.\n",
        "6. Removed all rows with negative or 0 ride duration.\n",
        "7. Renamed columns- rideable_type to bike_type & member_casuals to user_type.\n",
        "    "
      ]
    },
    {
      "cell_type": "code",
      "execution_count": null,
      "id": "64587e52",
      "metadata": {
        "_cell_guid": "ca46a483-7377-41d0-9c6f-5aaa1d563f17",
        "_uuid": "c4eb2ecf-8c91-4970-8651-ddb8f41627a1",
        "execution": {
          "iopub.execute_input": "2022-03-30T14:08:50.203344Z",
          "iopub.status.busy": "2022-03-30T14:08:50.201857Z",
          "iopub.status.idle": "2022-03-30T14:09:27.122125Z",
          "shell.execute_reply": "2022-03-30T14:09:27.120344Z"
        },
        "jupyter": {
          "outputs_hidden": false
        },
        "papermill": {
          "duration": 37.085899,
          "end_time": "2022-03-30T14:09:27.122381",
          "exception": false,
          "start_time": "2022-03-30T14:08:50.036482",
          "status": "completed"
        },
        "tags": [],
        "id": "64587e52"
      },
      "outputs": [],
      "source": [
        "#combining all months data into 1 dataframe\n",
        "year_dataset <- rbind(jan2021, feb2021, mar2021, apr2021, may2021, jun2021, jul2021,\n",
        "                      aug2021, sep2021, oct2021, nov2021, dec2021)"
      ]
    },
    {
      "cell_type": "code",
      "execution_count": null,
      "id": "a924ac19",
      "metadata": {
        "_cell_guid": "14f67341-f910-4b46-a1c8-30d157a8f433",
        "_uuid": "9891c36c-491d-46e1-a977-18f470dfa5a3",
        "execution": {
          "iopub.execute_input": "2022-03-30T14:09:27.450902Z",
          "iopub.status.busy": "2022-03-30T14:09:27.449425Z",
          "iopub.status.idle": "2022-03-30T14:09:30.063751Z",
          "shell.execute_reply": "2022-03-30T14:09:30.063031Z"
        },
        "jupyter": {
          "outputs_hidden": false
        },
        "papermill": {
          "duration": 2.779595,
          "end_time": "2022-03-30T14:09:30.063893",
          "exception": false,
          "start_time": "2022-03-30T14:09:27.284298",
          "status": "completed"
        },
        "tags": [],
        "id": "a924ac19",
        "outputId": "7803d921-80e5-429a-e4d3-c845b993c577"
      },
      "outputs": [
        {
          "data": {
            "text/html": [
              "<table class=\"dataframe\">\n",
              "<caption>A matrix: 1 × 13 of type dbl</caption>\n",
              "<thead>\n",
              "\t<tr><th scope=col>ride_id</th><th scope=col>rideable_type</th><th scope=col>started_at</th><th scope=col>ended_at</th><th scope=col>start_station_name</th><th scope=col>start_station_id</th><th scope=col>end_station_name</th><th scope=col>end_station_id</th><th scope=col>start_lat</th><th scope=col>start_lng</th><th scope=col>end_lat</th><th scope=col>end_lng</th><th scope=col>member_casual</th></tr>\n",
              "</thead>\n",
              "<tbody>\n",
              "\t<tr><td>0</td><td>0</td><td>0</td><td>0</td><td>690809</td><td>690806</td><td>739170</td><td>739170</td><td>0</td><td>0</td><td>4771</td><td>4771</td><td>0</td></tr>\n",
              "</tbody>\n",
              "</table>\n"
            ],
            "text/latex": [
              "A matrix: 1 × 13 of type dbl\n",
              "\\begin{tabular}{lllllllllllll}\n",
              " ride\\_id & rideable\\_type & started\\_at & ended\\_at & start\\_station\\_name & start\\_station\\_id & end\\_station\\_name & end\\_station\\_id & start\\_lat & start\\_lng & end\\_lat & end\\_lng & member\\_casual\\\\\n",
              "\\hline\n",
              "\t 0 & 0 & 0 & 0 & 690809 & 690806 & 739170 & 739170 & 0 & 0 & 4771 & 4771 & 0\\\\\n",
              "\\end{tabular}\n"
            ],
            "text/markdown": [
              "\n",
              "A matrix: 1 × 13 of type dbl\n",
              "\n",
              "| ride_id | rideable_type | started_at | ended_at | start_station_name | start_station_id | end_station_name | end_station_id | start_lat | start_lng | end_lat | end_lng | member_casual |\n",
              "|---|---|---|---|---|---|---|---|---|---|---|---|---|\n",
              "| 0 | 0 | 0 | 0 | 690809 | 690806 | 739170 | 739170 | 0 | 0 | 4771 | 4771 | 0 |\n",
              "\n"
            ],
            "text/plain": [
              "     ride_id rideable_type started_at ended_at start_station_name\n",
              "[1,] 0       0             0          0        690809            \n",
              "     start_station_id end_station_name end_station_id start_lat start_lng\n",
              "[1,] 690806           739170           739170         0         0        \n",
              "     end_lat end_lng member_casual\n",
              "[1,] 4771    4771    0            "
            ]
          },
          "metadata": {},
          "output_type": "display_data"
        }
      ],
      "source": [
        "#following code calculates the total missing values per column.\n",
        "#it helps to determine the manner in which to treat rows &  columns with missing values\n",
        "\n",
        "total_na_count <- rbind(colSums(is.na(year_dataset)))\n",
        "#preview of the the missing values\n",
        "head(total_na_count)"
      ]
    },
    {
      "cell_type": "markdown",
      "id": "93c5fde3",
      "metadata": {
        "papermill": {
          "duration": 0.164698,
          "end_time": "2022-03-30T14:09:30.395805",
          "exception": false,
          "start_time": "2022-03-30T14:09:30.231107",
          "status": "completed"
        },
        "tags": [],
        "id": "93c5fde3"
      },
      "source": [
        "The following code removes station names and station id columns."
      ]
    },
    {
      "cell_type": "code",
      "execution_count": null,
      "id": "78948f93",
      "metadata": {
        "_cell_guid": "5dde10c6-bab1-47d6-a25d-8a698f9e0b5f",
        "_uuid": "3e273f01-09b6-4f75-a621-4b38fcfaf829",
        "execution": {
          "iopub.execute_input": "2022-03-30T14:09:30.729254Z",
          "iopub.status.busy": "2022-03-30T14:09:30.727507Z",
          "iopub.status.idle": "2022-03-30T14:09:30.758461Z",
          "shell.execute_reply": "2022-03-30T14:09:30.757008Z"
        },
        "jupyter": {
          "outputs_hidden": false
        },
        "papermill": {
          "duration": 0.200049,
          "end_time": "2022-03-30T14:09:30.758616",
          "exception": false,
          "start_time": "2022-03-30T14:09:30.558567",
          "status": "completed"
        },
        "tags": [],
        "id": "78948f93"
      },
      "outputs": [],
      "source": [
        "#There are a lot of missing values in station names and ids. So, removing those columns first.\n",
        "year_dataset <- select(year_dataset,-c(\"start_station_name\", \"start_station_id\",\n",
        "                                       \"end_station_name\",\"end_station_id\"))"
      ]
    },
    {
      "cell_type": "code",
      "execution_count": null,
      "id": "fd6497c5",
      "metadata": {
        "_cell_guid": "8c3225a5-07f4-47a3-be36-019fc3ba53f4",
        "_uuid": "b3fe6c36-9edb-4287-ab0a-646a7d7f05b8",
        "execution": {
          "iopub.execute_input": "2022-03-30T14:09:31.091104Z",
          "iopub.status.busy": "2022-03-30T14:09:31.089548Z",
          "iopub.status.idle": "2022-03-30T14:09:31.106765Z",
          "shell.execute_reply": "2022-03-30T14:09:31.105248Z"
        },
        "jupyter": {
          "outputs_hidden": false
        },
        "papermill": {
          "duration": 0.18596,
          "end_time": "2022-03-30T14:09:31.106898",
          "exception": false,
          "start_time": "2022-03-30T14:09:30.920938",
          "status": "completed"
        },
        "tags": [],
        "id": "fd6497c5",
        "outputId": "fc00a830-b58d-4d76-9764-01f2a41116d6"
      },
      "outputs": [
        {
          "data": {
            "text/html": [
              "<style>\n",
              ".list-inline {list-style: none; margin:0; padding: 0}\n",
              ".list-inline>li {display: inline-block}\n",
              ".list-inline>li:not(:last-child)::after {content: \"\\00b7\"; padding: 0 .5ex}\n",
              "</style>\n",
              "<ol class=list-inline><li>'ride_id'</li><li>'rideable_type'</li><li>'started_at'</li><li>'ended_at'</li><li>'start_lat'</li><li>'start_lng'</li><li>'end_lat'</li><li>'end_lng'</li><li>'member_casual'</li></ol>\n"
            ],
            "text/latex": [
              "\\begin{enumerate*}\n",
              "\\item 'ride\\_id'\n",
              "\\item 'rideable\\_type'\n",
              "\\item 'started\\_at'\n",
              "\\item 'ended\\_at'\n",
              "\\item 'start\\_lat'\n",
              "\\item 'start\\_lng'\n",
              "\\item 'end\\_lat'\n",
              "\\item 'end\\_lng'\n",
              "\\item 'member\\_casual'\n",
              "\\end{enumerate*}\n"
            ],
            "text/markdown": [
              "1. 'ride_id'\n",
              "2. 'rideable_type'\n",
              "3. 'started_at'\n",
              "4. 'ended_at'\n",
              "5. 'start_lat'\n",
              "6. 'start_lng'\n",
              "7. 'end_lat'\n",
              "8. 'end_lng'\n",
              "9. 'member_casual'\n",
              "\n",
              "\n"
            ],
            "text/plain": [
              "[1] \"ride_id\"       \"rideable_type\" \"started_at\"    \"ended_at\"     \n",
              "[5] \"start_lat\"     \"start_lng\"     \"end_lat\"       \"end_lng\"      \n",
              "[9] \"member_casual\""
            ]
          },
          "metadata": {},
          "output_type": "display_data"
        }
      ],
      "source": [
        "#checking all columns in the dataset\n",
        "colnames(year_dataset)"
      ]
    },
    {
      "cell_type": "markdown",
      "id": "dbb00e72",
      "metadata": {
        "papermill": {
          "duration": 0.165848,
          "end_time": "2022-03-30T14:09:31.441903",
          "exception": false,
          "start_time": "2022-03-30T14:09:31.276055",
          "status": "completed"
        },
        "tags": [],
        "id": "dbb00e72"
      },
      "source": [
        "In the following code:\n",
        "+ `na_end_grid` stores the row number of all such rows which have NA value for end station latitude, end station longitude.  \n",
        "+ Such rows do not have any data for end station- name, id, latitude, longitude all these parameters are missing. So, such rows are being removed."
      ]
    },
    {
      "cell_type": "code",
      "execution_count": null,
      "id": "8c4b3c2c",
      "metadata": {
        "_cell_guid": "ebd26db1-c215-4e9d-b412-9753e2592a9b",
        "_uuid": "c6c5b5fe-5aad-4eb2-a68f-72190cfdf771",
        "execution": {
          "iopub.execute_input": "2022-03-30T14:09:31.784854Z",
          "iopub.status.busy": "2022-03-30T14:09:31.783237Z",
          "iopub.status.idle": "2022-03-30T14:09:32.684236Z",
          "shell.execute_reply": "2022-03-30T14:09:32.682870Z"
        },
        "jupyter": {
          "outputs_hidden": false
        },
        "papermill": {
          "duration": 1.074825,
          "end_time": "2022-03-30T14:09:32.684412",
          "exception": false,
          "start_time": "2022-03-30T14:09:31.609587",
          "status": "completed"
        },
        "tags": [],
        "id": "8c4b3c2c"
      },
      "outputs": [],
      "source": [
        "#na_end_grid stores row numbers for all remaining rows with missing values & the only missing\n",
        "#values are in end_lat and end_lng columns\n",
        "na_end_grid <- which(is.na(year_dataset$end_lat) | is.na(year_dataset$end_lng))\n",
        "#deleting these rows from the dataset\n",
        "year_dataset <- year_dataset[-na_end_grid,]"
      ]
    },
    {
      "cell_type": "markdown",
      "id": "21b4ef2e",
      "metadata": {
        "papermill": {
          "duration": 0.166358,
          "end_time": "2022-03-30T14:09:33.019776",
          "exception": false,
          "start_time": "2022-03-30T14:09:32.853418",
          "status": "completed"
        },
        "tags": [],
        "id": "21b4ef2e"
      },
      "source": [
        "The following code checks whether any more NA values are present in the dataset or not.  \n",
        "If 0 is returned, it implies no missing values."
      ]
    },
    {
      "cell_type": "code",
      "execution_count": null,
      "id": "aff6712d",
      "metadata": {
        "_cell_guid": "5216cf35-9e45-46cb-b168-6a5fe1fbec7c",
        "_uuid": "7c9319c6-152d-45d5-97c4-1eddb7c6037a",
        "execution": {
          "iopub.execute_input": "2022-03-30T14:09:33.361158Z",
          "iopub.status.busy": "2022-03-30T14:09:33.359617Z",
          "iopub.status.idle": "2022-03-30T14:09:35.464100Z",
          "shell.execute_reply": "2022-03-30T14:09:35.462677Z"
        },
        "jupyter": {
          "outputs_hidden": false
        },
        "papermill": {
          "duration": 2.275343,
          "end_time": "2022-03-30T14:09:35.464267",
          "exception": false,
          "start_time": "2022-03-30T14:09:33.188924",
          "status": "completed"
        },
        "tags": [],
        "id": "aff6712d",
        "outputId": "036f2daf-7bb6-4492-da75-04b92b83d289"
      },
      "outputs": [
        {
          "data": {
            "text/html": [
              "0"
            ],
            "text/latex": [
              "0"
            ],
            "text/markdown": [
              "0"
            ],
            "text/plain": [
              "[1] 0"
            ]
          },
          "metadata": {},
          "output_type": "display_data"
        }
      ],
      "source": [
        "#checking for any more NA values\n",
        "sum(is.na(year_dataset))"
      ]
    },
    {
      "cell_type": "markdown",
      "id": "9b942cc9",
      "metadata": {
        "papermill": {
          "duration": 0.172034,
          "end_time": "2022-03-30T14:09:35.807694",
          "exception": false,
          "start_time": "2022-03-30T14:09:35.635660",
          "status": "completed"
        },
        "tags": [],
        "id": "9b942cc9"
      },
      "source": [
        "The following code returns the total number of duplicate rows.  \n",
        "If 0 is returned, it implies no duplicate rows found."
      ]
    },
    {
      "cell_type": "code",
      "execution_count": null,
      "id": "a0874f26",
      "metadata": {
        "_cell_guid": "10a00816-f7a1-49b6-9105-a00c99b02b1f",
        "_uuid": "11cd9e39-c1c7-4136-b79d-2b754fd143fb",
        "execution": {
          "iopub.execute_input": "2022-03-30T14:09:36.158181Z",
          "iopub.status.busy": "2022-03-30T14:09:36.156664Z",
          "iopub.status.idle": "2022-03-30T14:12:29.741183Z",
          "shell.execute_reply": "2022-03-30T14:12:29.741697Z"
        },
        "jupyter": {
          "outputs_hidden": false
        },
        "papermill": {
          "duration": 173.764044,
          "end_time": "2022-03-30T14:12:29.741887",
          "exception": false,
          "start_time": "2022-03-30T14:09:35.977843",
          "status": "completed"
        },
        "tags": [],
        "id": "a0874f26",
        "outputId": "2b55f189-7faf-4096-bb4c-f615d35ce77d"
      },
      "outputs": [
        {
          "data": {
            "text/html": [
              "0"
            ],
            "text/latex": [
              "0"
            ],
            "text/markdown": [
              "0"
            ],
            "text/plain": [
              "[1] 0"
            ]
          },
          "metadata": {},
          "output_type": "display_data"
        }
      ],
      "source": [
        "#checking for duplicate rows- no duplicate rows found\n",
        "sum(duplicated(year_dataset))"
      ]
    },
    {
      "cell_type": "markdown",
      "id": "9c0113db",
      "metadata": {
        "papermill": {
          "duration": 0.171656,
          "end_time": "2022-03-30T14:12:30.084706",
          "exception": false,
          "start_time": "2022-03-30T14:12:29.913050",
          "status": "completed"
        },
        "tags": [],
        "id": "9c0113db"
      },
      "source": [
        "In the following code, `id_length` stores the length of `ride_id` (total number of characters) for each record.\n",
        "And `distinct()` returns all the distinct length values.  \n",
        "Here, only 16 is returned, which implies that in all records, number of characters in ride_id is 16.  \n",
        "All are valid ids."
      ]
    },
    {
      "cell_type": "code",
      "execution_count": null,
      "id": "bc36008f",
      "metadata": {
        "_cell_guid": "c5dc1f9f-1226-491b-bed7-b2f3e1cd76fe",
        "_uuid": "1848b46c-1886-482a-9672-4aab25e3cb8b",
        "execution": {
          "iopub.execute_input": "2022-03-30T14:12:30.464557Z",
          "iopub.status.busy": "2022-03-30T14:12:30.461989Z",
          "iopub.status.idle": "2022-03-30T14:12:31.938684Z",
          "shell.execute_reply": "2022-03-30T14:12:31.936467Z"
        },
        "jupyter": {
          "outputs_hidden": false
        },
        "papermill": {
          "duration": 1.682924,
          "end_time": "2022-03-30T14:12:31.938850",
          "exception": false,
          "start_time": "2022-03-30T14:12:30.255926",
          "status": "completed"
        },
        "tags": [],
        "id": "bc36008f",
        "outputId": "5ce1825a-46cd-40cf-a38a-bd49330bf9db"
      },
      "outputs": [
        {
          "data": {
            "text/html": [
              "<table class=\"dataframe\">\n",
              "<caption>A data.frame: 1 × 1</caption>\n",
              "<thead>\n",
              "\t<tr><th scope=col>nchar.year_dataset.ride_id.</th></tr>\n",
              "\t<tr><th scope=col>&lt;int&gt;</th></tr>\n",
              "</thead>\n",
              "<tbody>\n",
              "\t<tr><td>16</td></tr>\n",
              "</tbody>\n",
              "</table>\n"
            ],
            "text/latex": [
              "A data.frame: 1 × 1\n",
              "\\begin{tabular}{l}\n",
              " nchar.year\\_dataset.ride\\_id.\\\\\n",
              " <int>\\\\\n",
              "\\hline\n",
              "\t 16\\\\\n",
              "\\end{tabular}\n"
            ],
            "text/markdown": [
              "\n",
              "A data.frame: 1 × 1\n",
              "\n",
              "| nchar.year_dataset.ride_id. &lt;int&gt; |\n",
              "|---|\n",
              "| 16 |\n",
              "\n"
            ],
            "text/plain": [
              "  nchar.year_dataset.ride_id.\n",
              "1 16                         "
            ]
          },
          "metadata": {},
          "output_type": "display_data"
        }
      ],
      "source": [
        "#count the number of characters in \"ride_id\" values\n",
        "id_length <- data.frame(nchar(year_dataset$ride_id))\n",
        "#checking for length of all ride_id values. \n",
        "distinct(id_length)"
      ]
    },
    {
      "cell_type": "markdown",
      "id": "3e860acc",
      "metadata": {
        "papermill": {
          "duration": 0.174784,
          "end_time": "2022-03-30T14:12:32.289011",
          "exception": false,
          "start_time": "2022-03-30T14:12:32.114227",
          "status": "completed"
        },
        "tags": [],
        "id": "3e860acc"
      },
      "source": [
        "Following code creates 4 columns:  \n",
        "+ ride_duration,\n",
        "+ day of the week, \n",
        "+ hour of the day,\n",
        "+ month of the year."
      ]
    },
    {
      "cell_type": "code",
      "execution_count": null,
      "id": "eac35f7b",
      "metadata": {
        "_cell_guid": "04574931-ec08-401d-b81f-7fbed2369819",
        "_uuid": "4070420f-cc28-49a6-ae19-e996d5efac99",
        "execution": {
          "iopub.execute_input": "2022-03-30T14:12:32.646779Z",
          "iopub.status.busy": "2022-03-30T14:12:32.644330Z",
          "iopub.status.idle": "2022-03-30T14:12:46.293885Z",
          "shell.execute_reply": "2022-03-30T14:12:46.292447Z"
        },
        "jupyter": {
          "outputs_hidden": false
        },
        "papermill": {
          "duration": 13.829731,
          "end_time": "2022-03-30T14:12:46.294041",
          "exception": false,
          "start_time": "2022-03-30T14:12:32.464310",
          "status": "completed"
        },
        "tags": [],
        "id": "eac35f7b"
      },
      "outputs": [],
      "source": [
        "#CREATING columns- duration, distance, day of week.\n",
        "year_dataset$ride_duration <- as.numeric(difftime(year_dataset$ended_at, year_dataset$started_at), units=\"mins\")\n",
        "#label = TRUE implies that this day column will contain name of the day- mon,tues,.. & not day number.\n",
        "year_dataset$day <- wday(year_dataset$started_at, label = TRUE)\n",
        "year_dataset$hour_of_day <- hour(year_dataset$started_at)\n",
        "year_dataset$month <- month(year_dataset$started_at,label=TRUE)"
      ]
    },
    {
      "cell_type": "markdown",
      "id": "9d67cdae",
      "metadata": {
        "papermill": {
          "duration": 0.176336,
          "end_time": "2022-03-30T14:12:46.646045",
          "exception": false,
          "start_time": "2022-03-30T14:12:46.469709",
          "status": "completed"
        },
        "tags": [],
        "id": "9d67cdae"
      },
      "source": [
        "Following code first calculates total number of records with ride duration <= 0.  \n",
        "And then, such rows are removed from the dataset."
      ]
    },
    {
      "cell_type": "code",
      "execution_count": null,
      "id": "9c3d1361",
      "metadata": {
        "_cell_guid": "c8308055-1fef-427d-bcbb-b8b0a14c241f",
        "_uuid": "ec56575d-546c-47af-b53f-42fc24b4509f",
        "execution": {
          "iopub.execute_input": "2022-03-30T14:12:47.001243Z",
          "iopub.status.busy": "2022-03-30T14:12:46.999838Z",
          "iopub.status.idle": "2022-03-30T14:13:03.949148Z",
          "shell.execute_reply": "2022-03-30T14:13:03.947652Z"
        },
        "jupyter": {
          "outputs_hidden": false
        },
        "papermill": {
          "duration": 17.129944,
          "end_time": "2022-03-30T14:13:03.949407",
          "exception": false,
          "start_time": "2022-03-30T14:12:46.819463",
          "status": "completed"
        },
        "tags": [],
        "id": "9c3d1361",
        "outputId": "a679e68f-042b-4e58-f4b5-e4aef7477ba1"
      },
      "outputs": [
        {
          "data": {
            "text/html": [
              "652"
            ],
            "text/latex": [
              "652"
            ],
            "text/markdown": [
              "652"
            ],
            "text/plain": [
              "[1] 652"
            ]
          },
          "metadata": {},
          "output_type": "display_data"
        }
      ],
      "source": [
        "#total number of rows with ride duration less than 1 minute (including -ve and 0 duration)\n",
        "nrow(year_dataset %>% filter(ride_duration <= \"0 min\"))\n",
        "#removing all rows with duration <= 0 minute.\n",
        "year_dataset <- year_dataset[year_dataset$ride_duration > 0,]\n",
        "#all 652 rows removed."
      ]
    },
    {
      "cell_type": "code",
      "execution_count": null,
      "id": "09533066",
      "metadata": {
        "_cell_guid": "07e56335-a9de-47fa-ad65-51ef9e7bc073",
        "_uuid": "3d3cf038-5f61-4ee8-893d-c2de5a5029e8",
        "execution": {
          "iopub.execute_input": "2022-03-30T14:13:04.310012Z",
          "iopub.status.busy": "2022-03-30T14:13:04.309301Z",
          "iopub.status.idle": "2022-03-30T14:13:04.341426Z",
          "shell.execute_reply": "2022-03-30T14:13:04.340220Z"
        },
        "jupyter": {
          "outputs_hidden": false
        },
        "papermill": {
          "duration": 0.213872,
          "end_time": "2022-03-30T14:13:04.341572",
          "exception": false,
          "start_time": "2022-03-30T14:13:04.127700",
          "status": "completed"
        },
        "tags": [],
        "id": "09533066",
        "outputId": "541710e6-8abc-44fa-8f82-e21483e53ee6"
      },
      "outputs": [
        {
          "data": {
            "text/html": [
              "<table class=\"dataframe\">\n",
              "<caption>A tibble: 3 × 13</caption>\n",
              "<thead>\n",
              "\t<tr><th scope=col>ride_id</th><th scope=col>bike_type</th><th scope=col>started_at</th><th scope=col>ended_at</th><th scope=col>start_lat</th><th scope=col>start_lng</th><th scope=col>end_lat</th><th scope=col>end_lng</th><th scope=col>user_type</th><th scope=col>ride_duration</th><th scope=col>day</th><th scope=col>hour_of_day</th><th scope=col>month</th></tr>\n",
              "\t<tr><th scope=col>&lt;chr&gt;</th><th scope=col>&lt;chr&gt;</th><th scope=col>&lt;dttm&gt;</th><th scope=col>&lt;dttm&gt;</th><th scope=col>&lt;dbl&gt;</th><th scope=col>&lt;dbl&gt;</th><th scope=col>&lt;dbl&gt;</th><th scope=col>&lt;dbl&gt;</th><th scope=col>&lt;chr&gt;</th><th scope=col>&lt;dbl&gt;</th><th scope=col>&lt;ord&gt;</th><th scope=col>&lt;int&gt;</th><th scope=col>&lt;ord&gt;</th></tr>\n",
              "</thead>\n",
              "<tbody>\n",
              "\t<tr><td>E19E6F1B8D4C42ED</td><td>electric_bike</td><td>2021-01-23 16:14:19</td><td>2021-01-23 16:24:44</td><td>41.90034</td><td>-87.69674</td><td>41.89</td><td>-87.72</td><td>member</td><td>10.416667</td><td>Sat</td><td>16</td><td>Jan</td></tr>\n",
              "\t<tr><td>DC88F20C2C55F27F</td><td>electric_bike</td><td>2021-01-27 18:43:08</td><td>2021-01-27 18:47:12</td><td>41.90033</td><td>-87.69671</td><td>41.90</td><td>-87.69</td><td>member</td><td> 4.066667</td><td>Wed</td><td>18</td><td>Jan</td></tr>\n",
              "\t<tr><td>EC45C94683FE3F27</td><td>electric_bike</td><td>2021-01-21 22:35:54</td><td>2021-01-21 22:37:14</td><td>41.90031</td><td>-87.69664</td><td>41.90</td><td>-87.70</td><td>member</td><td> 1.333333</td><td>Thu</td><td>22</td><td>Jan</td></tr>\n",
              "</tbody>\n",
              "</table>\n"
            ],
            "text/latex": [
              "A tibble: 3 × 13\n",
              "\\begin{tabular}{lllllllllllll}\n",
              " ride\\_id & bike\\_type & started\\_at & ended\\_at & start\\_lat & start\\_lng & end\\_lat & end\\_lng & user\\_type & ride\\_duration & day & hour\\_of\\_day & month\\\\\n",
              " <chr> & <chr> & <dttm> & <dttm> & <dbl> & <dbl> & <dbl> & <dbl> & <chr> & <dbl> & <ord> & <int> & <ord>\\\\\n",
              "\\hline\n",
              "\t E19E6F1B8D4C42ED & electric\\_bike & 2021-01-23 16:14:19 & 2021-01-23 16:24:44 & 41.90034 & -87.69674 & 41.89 & -87.72 & member & 10.416667 & Sat & 16 & Jan\\\\\n",
              "\t DC88F20C2C55F27F & electric\\_bike & 2021-01-27 18:43:08 & 2021-01-27 18:47:12 & 41.90033 & -87.69671 & 41.90 & -87.69 & member &  4.066667 & Wed & 18 & Jan\\\\\n",
              "\t EC45C94683FE3F27 & electric\\_bike & 2021-01-21 22:35:54 & 2021-01-21 22:37:14 & 41.90031 & -87.69664 & 41.90 & -87.70 & member &  1.333333 & Thu & 22 & Jan\\\\\n",
              "\\end{tabular}\n"
            ],
            "text/markdown": [
              "\n",
              "A tibble: 3 × 13\n",
              "\n",
              "| ride_id &lt;chr&gt; | bike_type &lt;chr&gt; | started_at &lt;dttm&gt; | ended_at &lt;dttm&gt; | start_lat &lt;dbl&gt; | start_lng &lt;dbl&gt; | end_lat &lt;dbl&gt; | end_lng &lt;dbl&gt; | user_type &lt;chr&gt; | ride_duration &lt;dbl&gt; | day &lt;ord&gt; | hour_of_day &lt;int&gt; | month &lt;ord&gt; |\n",
              "|---|---|---|---|---|---|---|---|---|---|---|---|---|\n",
              "| E19E6F1B8D4C42ED | electric_bike | 2021-01-23 16:14:19 | 2021-01-23 16:24:44 | 41.90034 | -87.69674 | 41.89 | -87.72 | member | 10.416667 | Sat | 16 | Jan |\n",
              "| DC88F20C2C55F27F | electric_bike | 2021-01-27 18:43:08 | 2021-01-27 18:47:12 | 41.90033 | -87.69671 | 41.90 | -87.69 | member |  4.066667 | Wed | 18 | Jan |\n",
              "| EC45C94683FE3F27 | electric_bike | 2021-01-21 22:35:54 | 2021-01-21 22:37:14 | 41.90031 | -87.69664 | 41.90 | -87.70 | member |  1.333333 | Thu | 22 | Jan |\n",
              "\n"
            ],
            "text/plain": [
              "  ride_id          bike_type     started_at          ended_at           \n",
              "1 E19E6F1B8D4C42ED electric_bike 2021-01-23 16:14:19 2021-01-23 16:24:44\n",
              "2 DC88F20C2C55F27F electric_bike 2021-01-27 18:43:08 2021-01-27 18:47:12\n",
              "3 EC45C94683FE3F27 electric_bike 2021-01-21 22:35:54 2021-01-21 22:37:14\n",
              "  start_lat start_lng end_lat end_lng user_type ride_duration day hour_of_day\n",
              "1 41.90034  -87.69674 41.89   -87.72  member    10.416667     Sat 16         \n",
              "2 41.90033  -87.69671 41.90   -87.69  member     4.066667     Wed 18         \n",
              "3 41.90031  -87.69664 41.90   -87.70  member     1.333333     Thu 22         \n",
              "  month\n",
              "1 Jan  \n",
              "2 Jan  \n",
              "3 Jan  "
            ]
          },
          "metadata": {},
          "output_type": "display_data"
        }
      ],
      "source": [
        "#renaming few columns for better readability.\n",
        "year_dataset <- rename(year_dataset, bike_type = rideable_type, user_type = member_casual)\n",
        "head(year_dataset,3)"
      ]
    },
    {
      "cell_type": "code",
      "execution_count": null,
      "id": "8e895ae4",
      "metadata": {
        "_cell_guid": "3dd1722e-0c7f-40c8-9f93-ece6bfb37bbd",
        "_uuid": "9dfe5c2e-0164-4fa5-a284-100329b42c4b",
        "execution": {
          "iopub.execute_input": "2022-03-30T14:13:04.705223Z",
          "iopub.status.busy": "2022-03-30T14:13:04.703771Z",
          "iopub.status.idle": "2022-03-30T14:13:04.735411Z",
          "shell.execute_reply": "2022-03-30T14:13:04.733853Z"
        },
        "jupyter": {
          "outputs_hidden": false
        },
        "papermill": {
          "duration": 0.214397,
          "end_time": "2022-03-30T14:13:04.735566",
          "exception": false,
          "start_time": "2022-03-30T14:13:04.521169",
          "status": "completed"
        },
        "tags": [],
        "id": "8e895ae4",
        "outputId": "06084001-5d51-4003-fcf7-526b193c3eaa"
      },
      "outputs": [
        {
          "name": "stdout",
          "output_type": "stream",
          "text": [
            "Rows: 5,589,640\n",
            "Columns: 13\n",
            "$ ride_id       \u001b[3m\u001b[90m<chr>\u001b[39m\u001b[23m \"E19E6F1B8D4C42ED\", \"DC88F20C2C55F27F\", \"EC45C94683FE3F2…\n",
            "$ bike_type     \u001b[3m\u001b[90m<chr>\u001b[39m\u001b[23m \"electric_bike\", \"electric_bike\", \"electric_bike\", \"elec…\n",
            "$ started_at    \u001b[3m\u001b[90m<dttm>\u001b[39m\u001b[23m 2021-01-23 16:14:19, 2021-01-27 18:43:08, 2021-01-21 22…\n",
            "$ ended_at      \u001b[3m\u001b[90m<dttm>\u001b[39m\u001b[23m 2021-01-23 16:24:44, 2021-01-27 18:47:12, 2021-01-21 22…\n",
            "$ start_lat     \u001b[3m\u001b[90m<dbl>\u001b[39m\u001b[23m 41.90034, 41.90033, 41.90031, 41.90040, 41.90033, 41.900…\n",
            "$ start_lng     \u001b[3m\u001b[90m<dbl>\u001b[39m\u001b[23m -87.69674, -87.69671, -87.69664, -87.69666, -87.69670, -…\n",
            "$ end_lat       \u001b[3m\u001b[90m<dbl>\u001b[39m\u001b[23m 41.89000, 41.90000, 41.90000, 41.92000, 41.90000, 41.940…\n",
            "$ end_lng       \u001b[3m\u001b[90m<dbl>\u001b[39m\u001b[23m -87.72000, -87.69000, -87.70000, -87.69000, -87.70000, -…\n",
            "$ user_type     \u001b[3m\u001b[90m<chr>\u001b[39m\u001b[23m \"member\", \"member\", \"member\", \"member\", \"casual\", \"casua…\n",
            "$ ride_duration \u001b[3m\u001b[90m<dbl>\u001b[39m\u001b[23m 10.4166667, 4.0666667, 1.3333333, 11.7000000, 0.7166667,…\n",
            "$ day           \u001b[3m\u001b[90m<ord>\u001b[39m\u001b[23m Sat, Wed, Thu, Thu, Sat, Sat, Mon, Thu, Sat, Sun, Sat, S…\n",
            "$ hour_of_day   \u001b[3m\u001b[90m<int>\u001b[39m\u001b[23m 16, 18, 22, 13, 2, 14, 5, 15, 9, 19, 12, 15, 15, 15, 15,…\n",
            "$ month         \u001b[3m\u001b[90m<ord>\u001b[39m\u001b[23m Jan, Jan, Jan, Jan, Jan, Jan, Jan, Jan, Jan, Jan, Jan, J…\n"
          ]
        }
      ],
      "source": [
        "glimpse(year_dataset)"
      ]
    },
    {
      "cell_type": "code",
      "execution_count": null,
      "id": "10bde008",
      "metadata": {
        "_cell_guid": "cdf252ed-0027-49af-8170-4648c2fd3bd5",
        "_uuid": "cc399ef1-b151-4602-8227-2fb2f7d4e13d",
        "execution": {
          "iopub.execute_input": "2022-03-30T14:13:05.105901Z",
          "iopub.status.busy": "2022-03-30T14:13:05.104089Z",
          "iopub.status.idle": "2022-03-30T14:13:08.237196Z",
          "shell.execute_reply": "2022-03-30T14:13:08.235637Z"
        },
        "jupyter": {
          "outputs_hidden": false
        },
        "papermill": {
          "duration": 3.32171,
          "end_time": "2022-03-30T14:13:08.237405",
          "exception": false,
          "start_time": "2022-03-30T14:13:04.915695",
          "status": "completed"
        },
        "tags": [],
        "id": "10bde008",
        "outputId": "6be37ce9-e2f5-43eb-a4c2-216654279282"
      },
      "outputs": [
        {
          "data": {
            "text/plain": [
              "   ride_id           bike_type           started_at                 \n",
              " Length:5589640     Length:5589640     Min.   :2021-01-01 00:02:05  \n",
              " Class :character   Class :character   1st Qu.:2021-06-07 00:12:02  \n",
              " Mode  :character   Mode  :character   Median :2021-08-01 02:09:00  \n",
              "                                       Mean   :2021-07-29 07:53:52  \n",
              "                                       3rd Qu.:2021-09-24 16:41:35  \n",
              "                                       Max.   :2021-12-31 23:59:48  \n",
              "                                                                    \n",
              "    ended_at                     start_lat       start_lng         end_lat     \n",
              " Min.   :2021-01-01 00:08:39   Min.   :41.64   Min.   :-87.84   Min.   :41.39  \n",
              " 1st Qu.:2021-06-07 01:05:07   1st Qu.:41.88   1st Qu.:-87.66   1st Qu.:41.88  \n",
              " Median :2021-08-01 02:36:11   Median :41.90   Median :-87.64   Median :41.90  \n",
              " Mean   :2021-07-29 08:14:51   Mean   :41.90   Mean   :-87.65   Mean   :41.90  \n",
              " 3rd Qu.:2021-09-24 16:58:39   3rd Qu.:41.93   3rd Qu.:-87.63   3rd Qu.:41.93  \n",
              " Max.   :2022-01-03 17:32:18   Max.   :42.07   Max.   :-87.52   Max.   :42.17  \n",
              "                                                                               \n",
              "    end_lng        user_type         ride_duration       day        \n",
              " Min.   :-88.97   Length:5589640     Min.   :    0.02   Sun:856194  \n",
              " 1st Qu.:-87.66   Class :character   1st Qu.:    6.75   Mon:701954  \n",
              " Median :-87.64   Mode  :character   Median :   11.98   Tue:739340  \n",
              " Mean   :-87.65                      Mean   :   20.98   Wed:755539  \n",
              " 3rd Qu.:-87.63                      3rd Qu.:   21.73   Thu:736962  \n",
              " Max.   :-87.49                      Max.   :55944.15   Fri:809722  \n",
              "                                                        Sat:989929  \n",
              "  hour_of_day        month        \n",
              " Min.   : 0.00   Jul    : 821597  \n",
              " 1st Qu.:11.00   Aug    : 803539  \n",
              " Median :15.00   Sep    : 755445  \n",
              " Mean   :14.24   Jun    : 728812  \n",
              " 3rd Qu.:18.00   Oct    : 630672  \n",
              " Max.   :23.00   May    : 531127  \n",
              "                 (Other):1318448  "
            ]
          },
          "metadata": {},
          "output_type": "display_data"
        }
      ],
      "source": [
        "summary(year_dataset)"
      ]
    },
    {
      "cell_type": "markdown",
      "id": "a4ee5dc5",
      "metadata": {
        "papermill": {
          "duration": 0.183236,
          "end_time": "2022-03-30T14:13:08.613385",
          "exception": false,
          "start_time": "2022-03-30T14:13:08.430149",
          "status": "completed"
        },
        "tags": [],
        "id": "a4ee5dc5"
      },
      "source": [
        "### 1. What is the count of each user type- members & casual riders in the final dataset?"
      ]
    },
    {
      "cell_type": "code",
      "execution_count": null,
      "id": "73717cce",
      "metadata": {
        "_cell_guid": "85a37fbf-4b1a-4ad6-9000-333feab98787",
        "_uuid": "7c05bd10-2c1b-4acf-af37-d5e4220a33fd",
        "execution": {
          "iopub.execute_input": "2022-03-30T14:13:08.987853Z",
          "iopub.status.busy": "2022-03-30T14:13:08.986065Z",
          "iopub.status.idle": "2022-03-30T14:13:09.146115Z",
          "shell.execute_reply": "2022-03-30T14:13:09.144584Z"
        },
        "jupyter": {
          "outputs_hidden": false
        },
        "papermill": {
          "duration": 0.348577,
          "end_time": "2022-03-30T14:13:09.146264",
          "exception": false,
          "start_time": "2022-03-30T14:13:08.797687",
          "status": "completed"
        },
        "tags": [],
        "id": "73717cce",
        "outputId": "9048d6f4-dccf-47a9-ca76-338dd8538d65"
      },
      "outputs": [
        {
          "data": {
            "text/html": [
              "<table class=\"dataframe\">\n",
              "<caption>A tibble: 2 × 3</caption>\n",
              "<thead>\n",
              "\t<tr><th scope=col>user_type</th><th scope=col>total_count</th><th scope=col>in_percent</th></tr>\n",
              "\t<tr><th scope=col>&lt;chr&gt;</th><th scope=col>&lt;int&gt;</th><th scope=col>&lt;dbl&gt;</th></tr>\n",
              "</thead>\n",
              "<tbody>\n",
              "\t<tr><td>casual</td><td>2525174</td><td>45.17597</td></tr>\n",
              "\t<tr><td>member</td><td>3064466</td><td>54.82403</td></tr>\n",
              "</tbody>\n",
              "</table>\n"
            ],
            "text/latex": [
              "A tibble: 2 × 3\n",
              "\\begin{tabular}{lll}\n",
              " user\\_type & total\\_count & in\\_percent\\\\\n",
              " <chr> & <int> & <dbl>\\\\\n",
              "\\hline\n",
              "\t casual & 2525174 & 45.17597\\\\\n",
              "\t member & 3064466 & 54.82403\\\\\n",
              "\\end{tabular}\n"
            ],
            "text/markdown": [
              "\n",
              "A tibble: 2 × 3\n",
              "\n",
              "| user_type &lt;chr&gt; | total_count &lt;int&gt; | in_percent &lt;dbl&gt; |\n",
              "|---|---|---|\n",
              "| casual | 2525174 | 45.17597 |\n",
              "| member | 3064466 | 54.82403 |\n",
              "\n"
            ],
            "text/plain": [
              "  user_type total_count in_percent\n",
              "1 casual    2525174     45.17597  \n",
              "2 member    3064466     54.82403  "
            ]
          },
          "metadata": {},
          "output_type": "display_data"
        }
      ],
      "source": [
        "#percentage of casual users and members in the dataset\n",
        "year_dataset %>%\n",
        "group_by(user_type) %>%\n",
        "summarize(total_count = length(ride_id), in_percent = (length(ride_id)/nrow(year_dataset))*100)"
      ]
    },
    {
      "cell_type": "code",
      "execution_count": null,
      "id": "5e64b119",
      "metadata": {
        "_cell_guid": "cae0d09f-6948-4e55-9825-f2913322e36d",
        "_uuid": "79332dd9-79c3-430f-aa93-55e76fcd0817",
        "execution": {
          "iopub.execute_input": "2022-03-30T14:13:09.526211Z",
          "iopub.status.busy": "2022-03-30T14:13:09.524552Z",
          "iopub.status.idle": "2022-03-30T14:13:18.665428Z",
          "shell.execute_reply": "2022-03-30T14:13:18.664585Z"
        },
        "jupyter": {
          "outputs_hidden": false
        },
        "papermill": {
          "duration": 9.333386,
          "end_time": "2022-03-30T14:13:18.665573",
          "exception": false,
          "start_time": "2022-03-30T14:13:09.332187",
          "status": "completed"
        },
        "tags": [],
        "id": "5e64b119",
        "outputId": "8a9ec704-9490-4740-a149-3ed857d300e4"
      },
      "outputs": [
        {
          "data": {
            "image/png": "[encoded data removed]"
          },
          "metadata": {
            "image/png": {
              "height": 420,
              "width": 420
            }
          },
          "output_type": "display_data"
        }
      ],
      "source": [
        "#count of each user type in the dataset\n",
        "ggplot(data = year_dataset, aes(x = user_type, fill = user_type)) +\n",
        "geom_bar(width = 0.4,color = \"black\",alpha=0.8) +\n",
        "geom_text(aes(label = ..count.. ),vjust=1.5,stat = \"count\", color = \"black\") +\n",
        "labs(title = \"Total Count: Casuals vs Members\", x = \"user type\", y = \"total count\") +\n",
        "theme_classic() +\n",
        "theme(plot.title=element_text(hjust=0.5,family=\"mono\"),\n",
        "     axis.title = element_text(size=20),legend.position=\"none\") +\n",
        "scale_fill_manual(values = c(\"gold1\",\"midnightblue\"))"
      ]
    },
    {
      "cell_type": "markdown",
      "id": "63a9f14a",
      "metadata": {
        "papermill": {
          "duration": 0.189851,
          "end_time": "2022-03-30T14:13:19.044985",
          "exception": false,
          "start_time": "2022-03-30T14:13:18.855134",
          "status": "completed"
        },
        "tags": [],
        "id": "63a9f14a"
      },
      "source": [
        "#### Observation: \n",
        "In the dataset, member users account for 54% of the data and casual users account for 45%."
      ]
    },
    {
      "cell_type": "markdown",
      "id": "71cf27c3",
      "metadata": {
        "papermill": {
          "duration": 0.188704,
          "end_time": "2022-03-30T14:13:19.424149",
          "exception": false,
          "start_time": "2022-03-30T14:13:19.235445",
          "status": "completed"
        },
        "tags": [],
        "id": "71cf27c3"
      },
      "source": [
        "### 2. Which is the busiest day of the week?\n"
      ]
    },
    {
      "cell_type": "code",
      "execution_count": null,
      "id": "70c3c0b2",
      "metadata": {
        "_cell_guid": "0991acd2-062c-4eb1-ab71-a29706e59036",
        "_uuid": "d3299ae1-a6c8-44b9-a96f-15f0c231399c",
        "execution": {
          "iopub.execute_input": "2022-03-30T14:13:19.805174Z",
          "iopub.status.busy": "2022-03-30T14:13:19.803161Z",
          "iopub.status.idle": "2022-03-30T14:13:25.123296Z",
          "shell.execute_reply": "2022-03-30T14:13:25.122666Z"
        },
        "jupyter": {
          "outputs_hidden": false
        },
        "papermill": {
          "duration": 5.511565,
          "end_time": "2022-03-30T14:13:25.123445",
          "exception": false,
          "start_time": "2022-03-30T14:13:19.611880",
          "status": "completed"
        },
        "tags": [],
        "id": "70c3c0b2",
        "outputId": "47952b4b-cdea-4b2c-8a2e-139df7cf116b"
      },
      "outputs": [
        {
          "data": {
            "image/png": "[encoded data removed]"
          },
          "metadata": {
            "image/png": {
              "height": 420,
              "width": 420
            }
          },
          "output_type": "display_data"
        }
      ],
      "source": [
        "#Busiest day of the week\n",
        "year_dataset %>%\n",
        "mutate(day = fct_relevel(day,\"Mon\",\"Tue\",\"Wed\",\"Thu\",\"Fri\",\"Sat\",\"Sun\")) %>%\n",
        "ggplot(aes(x=day,fill=user_type)) +\n",
        "geom_bar(position=\"dodge\",width=0.5,color=\"black\",alpha=0.8) +\n",
        "labs(title=\"Busiest Day of Week: Casuals vs. Members\",y=\"total rides\") +\n",
        "theme_classic() +\n",
        "scale_fill_manual(values = c(\"gold1\",\"midnightblue\"))"
      ]
    },
    {
      "cell_type": "markdown",
      "id": "fe71e131",
      "metadata": {
        "papermill": {
          "duration": 0.225933,
          "end_time": "2022-03-30T14:13:25.541455",
          "exception": false,
          "start_time": "2022-03-30T14:13:25.315522",
          "status": "completed"
        },
        "tags": [],
        "id": "fe71e131"
      },
      "source": [
        "#### Observation: \n",
        "1. **Weekdays-** \n",
        "+ Member riders use the bike service more as compared to casual riders.  \n",
        "+ Casual riders have a higher count on Fridays among all weekdays.  \n",
        "\n",
        "2. **Weekends-** \n",
        "+ Casual riders prefer using the bike service more on weekends, with maximum traffic on Saturdays.\n",
        "+ Cyclistic bike services are used more by casual users on weekends as compared to members."
      ]
    },
    {
      "cell_type": "markdown",
      "id": "87e4e83c",
      "metadata": {
        "papermill": {
          "duration": 0.1912,
          "end_time": "2022-03-30T14:13:25.924778",
          "exception": false,
          "start_time": "2022-03-30T14:13:25.733578",
          "status": "completed"
        },
        "tags": [],
        "id": "87e4e83c"
      },
      "source": [
        "### 3. Which is the busiest day in a week for every month? "
      ]
    },
    {
      "cell_type": "code",
      "execution_count": null,
      "id": "6a4a6341",
      "metadata": {
        "_cell_guid": "6fa10c58-9766-4a09-8258-e345de52f64e",
        "_uuid": "e0577b6c-3a3e-4483-abf7-013108fcc503",
        "execution": {
          "iopub.execute_input": "2022-03-30T14:13:26.316426Z",
          "iopub.status.busy": "2022-03-30T14:13:26.314319Z",
          "iopub.status.idle": "2022-03-30T14:13:35.741276Z",
          "shell.execute_reply": "2022-03-30T14:13:35.740806Z"
        },
        "jupyter": {
          "outputs_hidden": false
        },
        "papermill": {
          "duration": 9.62277,
          "end_time": "2022-03-30T14:13:35.741419",
          "exception": false,
          "start_time": "2022-03-30T14:13:26.118649",
          "status": "completed"
        },
        "tags": [],
        "id": "6a4a6341",
        "outputId": "eb68b371-1587-4c6e-ad0b-6eaa79c2e2e9"
      },
      "outputs": [
        {
          "data": {
            "image/png": "[encoded data removed]"
          },
          "metadata": {
            "image/png": {
              "height": 720,
              "width": 720
            }
          },
          "output_type": "display_data"
        }
      ],
      "source": [
        "#busiest day in a week per month\n",
        "options(repr.plot.width = 12, repr.plot.height = 12)\n",
        "year_dataset %>%\n",
        "mutate(day = fct_relevel(day,\"Mon\",\"Tue\",\"Wed\",\"Thu\",\"Fri\",\"Sat\",\"Sun\")) %>%\n",
        "ggplot(aes(x=day,fill=user_type)) +\n",
        "geom_bar(position=\"dodge\",width=0.5) +\n",
        "labs(title=\"Busiest Day of Week: Casuals vs. Members\",y=\"total rides\") +\n",
        "theme_classic() +\n",
        "scale_fill_manual(values = c(\"gold\",\"midnightblue\")) +\n",
        "facet_wrap(~month) +\n",
        "theme(axis.text.x = element_text(angle=90),axis.text=element_text(size=10,face=\"bold\"),\n",
        "     axis.title.x=element_blank())\n",
        "#coord_flip()"
      ]
    },
    {
      "cell_type": "markdown",
      "id": "fcdd1705",
      "metadata": {
        "papermill": {
          "duration": 0.195508,
          "end_time": "2022-03-30T14:13:36.131731",
          "exception": false,
          "start_time": "2022-03-30T14:13:35.936223",
          "status": "completed"
        },
        "tags": [],
        "id": "fcdd1705"
      },
      "source": [
        "#### Observation:\n",
        "1. Saturdays and Sundays see more traffic by casual riders.\n",
        "2. Months of January and February account for minimum usage in bike service.\n",
        "3. The demand of bike service is considerably low in the Winter months- November, December, January and February for Casual riders.\n",
        "4. The demand of service among casual riders starts increasing from month of March and peaks in the month of July.\n"
      ]
    },
    {
      "cell_type": "markdown",
      "id": "6e2e6a4d",
      "metadata": {
        "papermill": {
          "duration": 0.21213,
          "end_time": "2022-03-30T14:13:36.543102",
          "exception": false,
          "start_time": "2022-03-30T14:13:36.330972",
          "status": "completed"
        },
        "tags": [],
        "id": "6e2e6a4d"
      },
      "source": [
        "### 4. Which is the busiest month in the year?\n",
        "#### Seasons in Chicago:\n",
        "1. Spring- March, April, May\n",
        "2. Summer- June, July, August\n",
        "3. Autumn- September, October, November\n",
        "4. Winter- December, January, February  \n",
        "**Source:** [seasonsyear](https://seasonsyear.com/USA/Illinois/Chicago)"
      ]
    },
    {
      "cell_type": "code",
      "execution_count": null,
      "id": "d8547577",
      "metadata": {
        "_cell_guid": "b7159c21-2ce8-47fb-be90-d00ee6183791",
        "_uuid": "813f5c86-0595-4d61-af83-18a46c8964ed",
        "execution": {
          "iopub.execute_input": "2022-03-30T14:13:36.938383Z",
          "iopub.status.busy": "2022-03-30T14:13:36.936816Z",
          "iopub.status.idle": "2022-03-30T14:13:41.384275Z",
          "shell.execute_reply": "2022-03-30T14:13:41.383455Z"
        },
        "jupyter": {
          "outputs_hidden": false
        },
        "papermill": {
          "duration": 4.646832,
          "end_time": "2022-03-30T14:13:41.384458",
          "exception": false,
          "start_time": "2022-03-30T14:13:36.737626",
          "status": "completed"
        },
        "tags": [],
        "id": "d8547577",
        "outputId": "61cca490-f282-4e00-9882-9e0b953ad821"
      },
      "outputs": [
        {
          "data": {
            "image/png": "[encoded data removed]"
          },
          "metadata": {
            "image/png": {
              "height": 420,
              "width": 600
            }
          },
          "output_type": "display_data"
        }
      ],
      "source": [
        "#Total rides count per month in 2021\n",
        "options(repr.plot.width = 10, repr.plot.height = 7)\n",
        "year_dataset %>%\n",
        "ggplot(aes(x=month,group_by=user_type,fill=user_type)) +\n",
        "geom_bar(stat=\"count\",width=0.5,alpha=0.8,color=\"black\",position=\"dodge\") +\n",
        "theme_classic() +\n",
        "scale_fill_manual(values = c(\"pink\",\"lightblue\")) +\n",
        "labs(title=\"Service Usage for Entire Year\",y=\"total rides\") +\n",
        "theme(axis.title.x=element_blank(),axis.text=element_text(size=10,face=\"bold\"))"
      ]
    },
    {
      "cell_type": "markdown",
      "id": "de4b78f2",
      "metadata": {
        "papermill": {
          "duration": 0.196795,
          "end_time": "2022-03-30T14:13:41.779794",
          "exception": false,
          "start_time": "2022-03-30T14:13:41.582999",
          "status": "completed"
        },
        "tags": [],
        "id": "de4b78f2"
      },
      "source": [
        "#### Observation:\n",
        "1. Casual riders: July and August are the busiest month.\n",
        "2. Member riders: August & September are the busiet month.\n",
        "3. Trend:\n",
        "    + **Casuals**- demand progressively rises from Feb, peaks in July and then starts decreasing with minimum usage in Feb.\n",
        "    + **Members**- demand indreases from March with a stability in months of June-October."
      ]
    },
    {
      "cell_type": "markdown",
      "id": "1f713c50",
      "metadata": {
        "papermill": {
          "duration": 0.198736,
          "end_time": "2022-03-30T14:13:42.176600",
          "exception": false,
          "start_time": "2022-03-30T14:13:41.977864",
          "status": "completed"
        },
        "tags": [],
        "id": "1f713c50"
      },
      "source": [
        "### 5. Which type of bike- classic or electric, is preferred more by the users?"
      ]
    },
    {
      "cell_type": "code",
      "execution_count": null,
      "id": "603f2971",
      "metadata": {
        "_cell_guid": "5250bebe-fd84-40ce-82ee-76c6b81b7a2a",
        "_uuid": "9d958530-b33a-4871-bafa-46ab474a42e4",
        "execution": {
          "iopub.execute_input": "2022-03-30T14:13:42.576816Z",
          "iopub.status.busy": "2022-03-30T14:13:42.574751Z",
          "iopub.status.idle": "2022-03-30T14:13:50.051223Z",
          "shell.execute_reply": "2022-03-30T14:13:50.049875Z"
        },
        "jupyter": {
          "outputs_hidden": false
        },
        "papermill": {
          "duration": 7.678817,
          "end_time": "2022-03-30T14:13:50.051419",
          "exception": false,
          "start_time": "2022-03-30T14:13:42.372602",
          "status": "completed"
        },
        "tags": [],
        "id": "603f2971",
        "outputId": "174bbcf5-7732-4e0b-c810-08200b3a9ecb"
      },
      "outputs": [
        {
          "data": {
            "image/png": "[encoded data removed]"
          },
          "metadata": {
            "image/png": {
              "height": 420,
              "width": 480
            }
          },
          "output_type": "display_data"
        }
      ],
      "source": [
        "#Most Preferred type of bike by Casual Users vs Members\n",
        "options(repr.plot.width = 8, repr.plot.height = 7)\n",
        "year_dataset %>%\n",
        "filter(bike_type == \"electric_bike\" | bike_type == \"classic_bike\") %>%\n",
        "ggplot(aes(x=bike_type,fill=bike_type)) +\n",
        "geom_bar(stat=\"count\",width=0.4,color=\"black\") +\n",
        "theme_classic() +\n",
        "scale_fill_manual(values=c(\"pink\",\"lightblue\")) +\n",
        "labs(title=\"Bike Preferrence per User Type\",y=\"total count\") +\n",
        "theme(axis.title.x=element_blank(),axis.text=element_text(size=10,face=\"bold\")) +\n",
        "facet_wrap(~user_type)"
      ]
    },
    {
      "cell_type": "markdown",
      "id": "79e99a37",
      "metadata": {
        "papermill": {
          "duration": 0.201396,
          "end_time": "2022-03-30T14:13:50.454003",
          "exception": false,
          "start_time": "2022-03-30T14:13:50.252607",
          "status": "completed"
        },
        "tags": [],
        "id": "79e99a37"
      },
      "source": [
        "#### Observation:\n",
        "Both casual riders and members prefer classic bikes over electric bikes."
      ]
    },
    {
      "cell_type": "markdown",
      "id": "9dd8cd8f",
      "metadata": {
        "papermill": {
          "duration": 0.203925,
          "end_time": "2022-03-30T14:13:50.891420",
          "exception": false,
          "start_time": "2022-03-30T14:13:50.687495",
          "status": "completed"
        },
        "tags": [],
        "id": "9dd8cd8f"
      },
      "source": [
        "### 6. Which type of bike is preferred for long rides ?\n",
        "##### (Assumption: Long rides are rides with duration > 1 day) "
      ]
    },
    {
      "cell_type": "code",
      "execution_count": null,
      "id": "e8cc0c98",
      "metadata": {
        "_cell_guid": "baa943c4-5478-4c9b-8bd5-af408fbebb3e",
        "_uuid": "b52eca07-42a7-4181-947a-144189567a84",
        "execution": {
          "iopub.execute_input": "2022-03-30T14:13:51.303562Z",
          "iopub.status.busy": "2022-03-30T14:13:51.301539Z",
          "iopub.status.idle": "2022-03-30T14:14:06.842087Z",
          "shell.execute_reply": "2022-03-30T14:14:06.841018Z"
        },
        "jupyter": {
          "outputs_hidden": false
        },
        "papermill": {
          "duration": 15.746308,
          "end_time": "2022-03-30T14:14:06.842284",
          "exception": false,
          "start_time": "2022-03-30T14:13:51.095976",
          "status": "completed"
        },
        "tags": [],
        "id": "e8cc0c98",
        "outputId": "16f7b04d-0fc8-41e6-a370-4dd4b66055c8"
      },
      "outputs": [
        {
          "data": {
            "image/png": "[encoded data removed]"
          },
          "metadata": {
            "image/png": {
              "height": 420,
              "width": 600
            }
          },
          "output_type": "display_data"
        }
      ],
      "source": [
        "#bike preferred for long rides- rides greater than 1 day\n",
        "options(repr.plot.width = 10, repr.plot.height = 7)\n",
        "year_dataset %>%\n",
        "filter(ride_duration > \"1440 mins\") %>%\n",
        "ggplot(aes(x=bike_type,fill=bike_type)) +\n",
        "geom_bar(stat=\"count\",width=0.5,color=\"black\",alpha=0.7) +\n",
        "theme_classic() +\n",
        "scale_fill_manual(values=c(\"pink\",\"lightblue\",\"gold3\")) +\n",
        "labs(title=\"Bike Preferrence per User Type\",y=\"total count\") +\n",
        "theme(axis.title.x=element_blank(),axis.text=element_text(size=10,face=\"bold\")) +\n",
        "facet_wrap(~user_type)"
      ]
    },
    {
      "cell_type": "markdown",
      "id": "3e2a3094",
      "metadata": {
        "papermill": {
          "duration": 0.205148,
          "end_time": "2022-03-30T14:14:07.254331",
          "exception": false,
          "start_time": "2022-03-30T14:14:07.049183",
          "status": "completed"
        },
        "tags": [],
        "id": "3e2a3094"
      },
      "source": [
        "#### Observation:\n",
        "Even for longer rides, classic bikes are preferred over electric bikes by both casual users and members."
      ]
    },
    {
      "cell_type": "markdown",
      "id": "f2d7a89d",
      "metadata": {
        "papermill": {
          "duration": 0.207143,
          "end_time": "2022-03-30T14:14:07.666004",
          "exception": false,
          "start_time": "2022-03-30T14:14:07.458861",
          "status": "completed"
        },
        "tags": [],
        "id": "f2d7a89d"
      },
      "source": [
        "### 7. Have bikes been hired for duration for more than 1 month?\n",
        "##### (Tried to assess whether these are outliers.)"
      ]
    },
    {
      "cell_type": "code",
      "execution_count": null,
      "id": "fba82eac",
      "metadata": {
        "_cell_guid": "ce8a9817-18af-4a39-89bb-990d9257b2c3",
        "_uuid": "3d09e0c8-0a37-4012-b59f-94a35b49e596",
        "execution": {
          "iopub.execute_input": "2022-03-30T14:14:08.084241Z",
          "iopub.status.busy": "2022-03-30T14:14:08.082125Z",
          "iopub.status.idle": "2022-03-30T14:14:27.384556Z",
          "shell.execute_reply": "2022-03-30T14:14:27.382805Z"
        },
        "jupyter": {
          "outputs_hidden": false
        },
        "papermill": {
          "duration": 19.514517,
          "end_time": "2022-03-30T14:14:27.384773",
          "exception": false,
          "start_time": "2022-03-30T14:14:07.870256",
          "status": "completed"
        },
        "tags": [],
        "id": "fba82eac"
      },
      "outputs": [],
      "source": [
        "#creating a data frame containing total ride duration greater or less than 1 month\n",
        "less_than_month <- nrow(year_dataset %>% filter(ride_duration < \"43200 mins\"))\n",
        "more_than_month <- nrow(year_dataset %>% filter(ride_duration >= \"43200 mins\"))\n",
        "duration_data <- data.frame(duration = c(\"<month\", \">=month\"), total_count = c(less_than_month,more_than_month))"
      ]
    },
    {
      "cell_type": "code",
      "execution_count": null,
      "id": "a504b690",
      "metadata": {
        "_cell_guid": "a64947be-01f0-445f-9459-25aa78b33ad5",
        "_uuid": "34575ef4-337e-452a-b2b8-d8ba8eb0d9ce",
        "execution": {
          "iopub.execute_input": "2022-03-30T14:14:27.803659Z",
          "iopub.status.busy": "2022-03-30T14:14:27.801665Z",
          "iopub.status.idle": "2022-03-30T14:14:28.001048Z",
          "shell.execute_reply": "2022-03-30T14:14:27.999778Z"
        },
        "jupyter": {
          "outputs_hidden": false
        },
        "papermill": {
          "duration": 0.409262,
          "end_time": "2022-03-30T14:14:28.001204",
          "exception": false,
          "start_time": "2022-03-30T14:14:27.591942",
          "status": "completed"
        },
        "tags": [],
        "id": "a504b690",
        "outputId": "fbaf7c5a-6079-497a-f1ee-7a0ba707b553"
      },
      "outputs": [
        {
          "data": {
            "image/png": "[encoded data removed]"
          },
          "metadata": {
            "image/png": {
              "height": 420,
              "width": 420
            }
          },
          "output_type": "display_data"
        }
      ],
      "source": [
        "options(repr.plot.width = 7, repr.plot.height = 7)\n",
        "ggplot(data = duration_data, aes(duration,total_count)) +\n",
        "geom_bar(stat=\"identity\",width = 0.4, color=\"black\",fill=c(\"pink\",\"lightblue\")) +\n",
        "labs(title=\"Rides with duration greater than and less than 1 month\") +\n",
        "theme_classic() +\n",
        "theme(axis.text=element_text(face=\"bold\",size=10), axis.title.x=element_blank())"
      ]
    },
    {
      "cell_type": "markdown",
      "id": "f9c1af58",
      "metadata": {
        "papermill": {
          "duration": 0.211685,
          "end_time": "2022-03-30T14:14:28.422666",
          "exception": false,
          "start_time": "2022-03-30T14:14:28.210981",
          "status": "completed"
        },
        "tags": [],
        "id": "f9c1af58"
      },
      "source": [
        "#### Observation:\n",
        "Turns out, there are considerable number of records with duration greater than 1 month.  \n",
        "Hence, records with duration > 1 month are not being considered as outliers."
      ]
    },
    {
      "cell_type": "markdown",
      "id": "eefc6ef1",
      "metadata": {
        "papermill": {
          "duration": 0.210218,
          "end_time": "2022-03-30T14:14:28.841259",
          "exception": false,
          "start_time": "2022-03-30T14:14:28.631041",
          "status": "completed"
        },
        "tags": [],
        "id": "eefc6ef1"
      },
      "source": [
        "### 8. What is the average duration of ride for each user type?"
      ]
    },
    {
      "cell_type": "code",
      "execution_count": null,
      "id": "2f949168",
      "metadata": {
        "_cell_guid": "02361da8-401d-46d2-b0f8-09ec0d901ffa",
        "_uuid": "23c23792-0783-4b0e-b2fa-6ad1ce3c3274",
        "execution": {
          "iopub.execute_input": "2022-03-30T14:14:29.265642Z",
          "iopub.status.busy": "2022-03-30T14:14:29.263496Z",
          "iopub.status.idle": "2022-03-30T14:14:29.600046Z",
          "shell.execute_reply": "2022-03-30T14:14:29.598916Z"
        },
        "jupyter": {
          "outputs_hidden": false
        },
        "papermill": {
          "duration": 0.551052,
          "end_time": "2022-03-30T14:14:29.600189",
          "exception": false,
          "start_time": "2022-03-30T14:14:29.049137",
          "status": "completed"
        },
        "tags": [],
        "id": "2f949168",
        "outputId": "419b9e9e-1364-417a-ad78-917c03428d38"
      },
      "outputs": [
        {
          "data": {
            "image/png": "[encoded data removed]"
          },
          "metadata": {
            "image/png": {
              "height": 300,
              "width": 300
            }
          },
          "output_type": "display_data"
        }
      ],
      "source": [
        "#analysing average duration of each user\n",
        "options(repr.plot.width = 5, repr.plot.height = 5)\n",
        "year_dataset %>%\n",
        "group_by(user_type) %>%\n",
        "summarize(avg_duration = mean(ride_duration)) %>%\n",
        "ggplot(aes(x=user_type,y=avg_duration)) +\n",
        "geom_bar(stat=\"identity\",color=\"black\",fill=c(\"pink\",\"lightblue\"),width=0.5) +\n",
        "theme_classic() +\n",
        "geom_text(aes(label=round(avg_duration,2)),hjust=1.5,color=\"black\")+\n",
        "labs(title=\"Average Ride Duration: Casuals vs Members\",y=\"average ride duration\") +\n",
        "theme(axis.title.x=element_blank(),axis.text=element_text(size=12,face=\"bold\")) +\n",
        "coord_flip()"
      ]
    },
    {
      "cell_type": "markdown",
      "id": "4accfd15",
      "metadata": {
        "papermill": {
          "duration": 0.212063,
          "end_time": "2022-03-30T14:14:30.022477",
          "exception": false,
          "start_time": "2022-03-30T14:14:29.810414",
          "status": "completed"
        },
        "tags": [],
        "id": "4accfd15"
      },
      "source": [
        "#### Observation:\n",
        "Casual riders hire Cyclistic bikes for longer duration compared to member users."
      ]
    },
    {
      "cell_type": "markdown",
      "id": "eb3da596",
      "metadata": {
        "papermill": {
          "duration": 0.210523,
          "end_time": "2022-03-30T14:14:30.442623",
          "exception": false,
          "start_time": "2022-03-30T14:14:30.232100",
          "status": "completed"
        },
        "tags": [],
        "id": "eb3da596"
      },
      "source": [
        "#### Summary of analysis:\n",
        "1. Casual users hire Cyclistic bikes in higher number on weekends- especially Saturdays.\n",
        "2. Months that see high surge in casual users are- June, July and August.\n",
        "3. Months with minimum users- winter season: Dec, Jan and Feb.\n",
        "4. Casual users hire bikes for longer duration.\n",
        "\n",
        "\n",
        "#### Recommendations:\n",
        "1. Offering more perks in Summer months.\n",
        "2. Offering coupons for travel destinations on weekends to members.  \n",
        "    + **_This requires further analysis on most frequented destinations by casual users on weekends._**\n",
        "    + Such weekend offers can lure casual users to get Cyclistic membership.\n",
        "3. Giving travel points for long rides. These points can later be added in exchange for subscription renewal etc.\n",
        "4. Marketing campaigns must be organised in the months of February- just before spring season. The count of casual customers progressively increases from **Winter < Spring < Summer.**  \n",
        "\n",
        "#### Final Note:\n",
        "Futher more analysis can be done using the location data and GPS coordinates. But I'm ending it here. More for future projects. 😁"
      ]
    }
  ],
  "metadata": {
    "kernelspec": {
      "display_name": "R",
      "language": "R",
      "name": "ir"
    },
    "language_info": {
      "codemirror_mode": "r",
      "file_extension": ".r",
      "mimetype": "text/x-r-source",
      "name": "R",
      "pygments_lexer": "r",
      "version": "4.0.5"
    },
    "papermill": {
      "default_parameters": {},
      "duration": 352.162832,
      "end_time": "2022-03-30T14:14:31.467939",
      "environment_variables": {},
      "exception": null,
      "input_path": "__notebook__.ipynb",
      "output_path": "__notebook__.ipynb",
      "parameters": {},
      "start_time": "2022-03-30T14:08:39.305107",
      "version": "2.3.3"
    },
    "colab": {
      "name": "google-data-analytics-cyclistic-dataset.ipynb",
      "provenance": []
    }
  },
  "nbformat": 4,
  "nbformat_minor": 5
}